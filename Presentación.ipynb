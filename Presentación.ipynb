{
 "cells": [
  {
   "cell_type": "markdown",
   "id": "5cf31cbf",
   "metadata": {},
   "source": [
    "# Mi Presentación"
   ]
  },
  {
   "cell_type": "markdown",
   "id": "46fdd736",
   "metadata": {},
   "source": [
    " Hola, mi nombre es **Luis Adrián López Enríquez** y tengo 19 años. Ahorita mismo estoy cursando tercer semestre de la carrera **Ingeniería Financiera**.\n",
    "\n",
    "## Hobbies ##\n",
    "- Jugar fut\n",
    "- Tocar piano \n",
    "- Pasar tiempo con amigos y familia \n"
   ]
  },
  {
   "cell_type": "markdown",
   "id": "921a3f9b",
   "metadata": {},
   "source": [
    "## ¿Qué es un cete? ##"
   ]
  },
  {
   "cell_type": "markdown",
   "id": "15e4ed85",
   "metadata": {},
   "source": [
    "<em> Un cete es un título de deuda pública emitida por el mismo gobierno. Las siguientes son opciones de compra de cetes: </em>\n",
    "\n",
    "<ol>\n",
    "<li>Cete a 28 días</li> \n",
    "<li>Cete a 91 días</li>\n",
    "<li>Cete a 182 días</li>\n",
    "<li>Cete a 365 días</li>\n",
    "</ol>   "
   ]
  },
  {
   "cell_type": "markdown",
   "id": "bc03e61c",
   "metadata": {},
   "source": [
    "![](https://meme.fandom.com/es/wiki/Stonks)"
   ]
  },
  {
   "cell_type": "code",
   "execution_count": 21,
   "id": "9e5e2bec",
   "metadata": {},
   "outputs": [
    {
     "ename": "SyntaxError",
     "evalue": "invalid syntax (244130680.py, line 1)",
     "output_type": "error",
     "traceback": [
      "\u001b[0;36m  Input \u001b[0;32mIn [21]\u001b[0;36m\u001b[0m\n\u001b[0;31m    $3x + 12y = 57\u001b[0m\n\u001b[0m    ^\u001b[0m\n\u001b[0;31mSyntaxError\u001b[0m\u001b[0;31m:\u001b[0m invalid syntax\n"
     ]
    }
   ],
   "source": [
    "$3x + 12y = 57"
   ]
  }
 ],
 "metadata": {
  "kernelspec": {
   "display_name": "Python 3 (ipykernel)",
   "language": "python",
   "name": "python3"
  },
  "language_info": {
   "codemirror_mode": {
    "name": "ipython",
    "version": 3
   },
   "file_extension": ".py",
   "mimetype": "text/x-python",
   "name": "python",
   "nbconvert_exporter": "python",
   "pygments_lexer": "ipython3",
   "version": "3.9.12"
  }
 },
 "nbformat": 4,
 "nbformat_minor": 5
}
